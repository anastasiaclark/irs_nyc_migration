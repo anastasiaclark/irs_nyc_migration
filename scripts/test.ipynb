{
 "cells": [
  {
   "cell_type": "code",
   "execution_count": 2,
   "metadata": {},
   "outputs": [],
   "source": [
    "# this is to test the Bergen County mismatch from the email\n",
    "import pandas as pd\n",
    "import os\n",
    "\n",
    "data_path='/Users/anastasiaclark/irs_nyc_migration/data'\n",
    "county_pep=pd.read_csv(os.path.join(data_path, 'census_pop_est','co-est2016-alldata.csv'), converters={'STATE':str,'COUNTY':str},encoding='LATIN-1')"
   ]
  },
  {
   "cell_type": "code",
   "execution_count": 3,
   "metadata": {
    "collapsed": true
   },
   "outputs": [],
   "source": [
    "county_pep['fips']=county_pep.STATE+county_pep.COUNTY\n",
    "county_pep.set_index('fips',inplace=True)"
   ]
  },
  {
   "cell_type": "code",
   "execution_count": 9,
   "metadata": {},
   "outputs": [
    {
     "data": {
      "text/plain": [
       "[u'NPOPCHG_2010',\n",
       " u'NPOPCHG_2011',\n",
       " u'NPOPCHG_2012',\n",
       " u'NPOPCHG_2013',\n",
       " u'NPOPCHG_2014',\n",
       " u'NPOPCHG_2015',\n",
       " u'NPOPCHG_2016']"
      ]
     },
     "execution_count": 9,
     "metadata": {},
     "output_type": "execute_result"
    }
   ],
   "source": [
    "pop_cng_cols=[c for c in county_pep.columns if 'NPOPCHG' in c]\n",
    "pop_cng_cols"
   ]
  },
  {
   "cell_type": "code",
   "execution_count": 7,
   "metadata": {},
   "outputs": [
    {
     "data": {
      "text/plain": [
       "34034"
      ]
     },
     "execution_count": 7,
     "metadata": {},
     "output_type": "execute_result"
    }
   ],
   "source": [
    "county_pep[pop_cng_cols].loc['34003'].sum()"
   ]
  },
  {
   "cell_type": "code",
   "execution_count": 8,
   "metadata": {},
   "outputs": [
    {
     "data": {
      "text/plain": [
       "32351"
      ]
     },
     "execution_count": 8,
     "metadata": {},
     "output_type": "execute_result"
    }
   ],
   "source": [
    "county_pep['POPESTIMATE2016'].loc['34003']-county_pep['POPESTIMATE2010'].loc['34003']"
   ]
  }
 ],
 "metadata": {
  "kernelspec": {
   "display_name": "Python 2",
   "language": "python",
   "name": "python2"
  },
  "language_info": {
   "codemirror_mode": {
    "name": "ipython",
    "version": 2
   },
   "file_extension": ".py",
   "mimetype": "text/x-python",
   "name": "python",
   "nbconvert_exporter": "python",
   "pygments_lexer": "ipython2",
   "version": "2.7.13"
  }
 },
 "nbformat": 4,
 "nbformat_minor": 2
}
