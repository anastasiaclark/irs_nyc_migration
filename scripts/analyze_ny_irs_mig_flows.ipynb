{
 "cells": [
  {
   "cell_type": "markdown",
   "metadata": {},
   "source": [
    "# analyze_ny_irs_mig_flows\n",
    "The script analyzes the migration flows for NYC and NY metro area <br />\n",
    "The data used is from the IRS MIgration SQLite database compiled by Baruch College <br />\n",
    "The most current version of the irs migration database is available at \n",
    "https://www.baruch.cuny.edu/confluence/display/geoportal/IRS+Migration+Database"
   ]
  },
  {
   "cell_type": "code",
   "execution_count": 35,
   "metadata": {
    "collapsed": true
   },
   "outputs": [],
   "source": [
    "%matplotlib inline\n",
    "import pandas as pd\n",
    "from functools import reduce\n",
    "import matplotlib.pyplot as plt\n",
    "import matplotlib.ticker as ticker\n",
    "import numpy as np\n",
    "import sqlite3\n",
    "import os\n",
    "import pandas.io.formats.format as pf\n",
    "plt.style.use ('ggplot')\n",
    "\n",
    "# display numbers (floats) with thousand separator\n",
    "pd.options.display.float_format = '{:,.0f}'.format\n",
    "\n",
    "# found this hack to format integers for display with thousand separator\n",
    "# https://stackoverflow.com/questions/29663252/format-pandas-integers-for-display?answertab=active#tab-top\n",
    "class IntArrayFormatter(pf.GenericArrayFormatter):\n",
    "    def _format_strings(self):\n",
    "        formatter = self.formatter or '{:,d}'.format\n",
    "        fmt_values = [formatter(x) for x in self.values]\n",
    "        return fmt_values\n",
    "pf.IntArrayFormatter = IntArrayFormatter"
   ]
  },
  {
   "cell_type": "code",
   "execution_count": 37,
   "metadata": {},
   "outputs": [],
   "source": [
    "# define paths and variables\n",
    "project_path='~/irs_nyc_migration'\n",
    "data_path = '~/irs_nyc_migration/data'\n",
    "db = 'irsmig_county_database'\n",
    "\n",
    "con = sqlite3.connect (os.path.join (data_path, db, \"irs_migration_county.sqlite\"))\n",
    "cur=con.cursor()\n",
    "metros = pd.read_csv (os.path.join (data_path, 'metros', 'metros_basic.csv'),\n",
    "                      converters={'fips': str, 'co_code': str, 'cbsa_code': str})\n",
    "\n",
    "# project years\n",
    "years = ('2011_12', '2012_13', '2013_14', '2014_15')  \n",
    "\n",
    "# NYC counties\n",
    "nyc = ('36005', '36047', '36061', '36081', '36085')\n",
    "\n",
    "# NY Metro Counties\n",
    "nyma=('34003','34013','34017','34019','34023','34025','34027','34029','34031',\\\n",
    "      '34035','34037','34039','36005','36027','36047','36059','36061','36071',\\\n",
    "      '36079','36081','36085','36087','36103','36119','42103')\n",
    "\n",
    "# county fips and city names\n",
    "big_cities={'06037':'Los Angeles Co, CA','17031': 'Cook Co, IL (Chicago)','48201': 'Harris Co, TX (Houston)',\n",
    "   '04013': 'Maricopa Co, AZ (Phoenix)','42101': 'Philadelphia Co, PA', '48029': 'Bexar Co, TX (San Antonio)', '06073': 'San Diego Co, CA',\n",
    "  '48113': 'Dallas Co, TX', '06085': 'Santa Clara Co, CA (San Jose)','36005':'New York City, NY','36047':'New York City, NY',\n",
    "       '36061':'New York City, NY','36081':'New York City, NY','36085':'New York City, NY'}\n",
    "\n",
    "# cbsa codes for 14 biggest metros\n",
    "big_metros=['35620','31080','16980','19100','26420','47900','37980','33100','12060','14460','41860','38060','40140','19820']\n",
    "\n",
    "# codes for foreign migration\n",
    "foreign=('57005','57009','57001','57003','57007')\n",
    "\n",
    "# codes for suppressed flows\n",
    "suppressed=('58000','59000')\n",
    "\n",
    "# plots colors\n",
    "cbrew=['#f1a340','#f7f7f7','#998ec3']\n",
    "cbrew2=['#fc8d59','#ffffbf','#99d594']\n",
    "cbrew3=['#99d594','#ffffbf','#fc8d59']\n",
    "flowcolor3=['#7FC97F','#666666','#00BFBF']\n",
    "flowcolor2=['#7FC97F','#666666']"
   ]
  },
  {
   "cell_type": "code",
   "execution_count": null,
   "metadata": {},
   "outputs": [],
   "source": [
    "# look at one year of the inflow data in the database\n",
    "inflow_temp = pd.read_sql_query (\"SELECT * from inflow_2011_12\", con)\n",
    "inflow_temp.head()"
   ]
  },
  {
   "cell_type": "code",
   "execution_count": null,
   "metadata": {},
   "outputs": [],
   "source": [
    "# look at one year of the outflow data in the database\n",
    "inflow_temp = pd.read_sql_query (\"SELECT * from outflow_2011_12\", con)\n",
    "inflow_temp.head()"
   ]
  },
  {
   "cell_type": "code",
   "execution_count": null,
   "metadata": {
    "collapsed": true
   },
   "outputs": [],
   "source": [
    "def get_flows_by_city(year, city):\n",
    "    \"\"\" function to read in data from the database\n",
    "    and combine flows for places of ineterest\n",
    "\n",
    "    :rtype: dataframe\"\"\"\n",
    "\n",
    "    # read in inflow & outflow data and store it in a pandas dataframe\n",
    "    table1 = 'outflow_{}'.format (year)\n",
    "    table2 = 'inflow_{}'.format (year)\n",
    "\n",
    "    # SQL query to select \n",
    "    # flows between, but not within counties\n",
    "    df_out = pd.read_sql_query (\"SELECT * from {} where {}.origin!={}.destination\".format (table1, table1, table1), con)\n",
    "    df_in = pd.read_sql_query (\"SELECT * from {} where {}.origin!={}.destination\".format (table2, table2, table2), con)\n",
    "    \n",
    "    # most of the records for inflow will appear in the outflow table as well\n",
    "    # and be same in both tables\n",
    "    # make the uid be same for same records and set it as dataframe's index\n",
    "    df_out['uid'] = df_out.origin + \"_\" + df_out.destination\n",
    "    df_in['uid'] = df_in.origin + \"_\" + df_in.destination\n",
    "\n",
    "    df_in.set_index ('uid', inplace=True)\n",
    "    df_out.set_index ('uid', inplace=True)\n",
    "    \n",
    "    # select a subset of records between and not within selected counties\n",
    "    city_in = df_in[(df_in['destination'].isin (city)) & (~df_in['origin'].isin (city))]\n",
    "    city_out = df_out[(df_out['origin'].isin (city)) & (~df_out['destination'].isin (city))]\n",
    "      \n",
    "    to_city = city_in[['origin', 'co_orig_name', 'exemptions', 'st_orig_abbrv']].groupby (\n",
    "        ['origin', 'co_orig_name', 'st_orig_abbrv']).sum().sort_values ('exemptions', ascending=False).reset_index ()\n",
    "    \n",
    "    from_city = city_out[['destination', 'co_dest_name', 'st_dest_abbrv', 'exemptions']].groupby (\n",
    "        ['destination', 'co_dest_name', 'st_dest_abbrv']).sum().sort_values ('exemptions',\n",
    "                                                                              ascending=False).reset_index ()\n",
    "    \n",
    "    to_city.rename (columns={'origin': 'co_fips', 'co_orig_name': 'co_name', 'exemptions': 'inflow' + year,\n",
    "                             'st_orig_abbrv': 'state'}, inplace=True)\n",
    "    \n",
    "    from_city.rename (columns={'destination': 'co_fips', 'co_dest_name': 'co_name', 'st_dest_abbrv': 'state',\n",
    "                               'exemptions': 'outflow' + year}, inplace=True)\n",
    "\n",
    "    flows_city = to_city.merge (from_city, on=['co_fips', 'co_name', 'state'], how='outer')\n",
    "    flows_city.fillna(0, inplace=True)\n",
    "\n",
    "    # merge metro areas info to selected counties flows to determine which counties from these flows are urban\n",
    "    flows_city = flows_city.merge (metros[['cbsa_code', 'cbsa_name', 'fips']], left_on='co_fips', right_on='fips',\n",
    "                                   how='left').drop ('fips', 1)\n",
    "    \n",
    "    # label counties that are nor part of the metro areas and are not supressed or foregin as 'non-metro' counties\n",
    "    flows_city.loc[(~flows_city['co_fips'].isin(suppressed)) & (~flows_city['co_fips'].isin(foreign)) & (flows_city['cbsa_code'].isnull()),['cbsa_name']]='non-metro'\n",
    "\n",
    "    # add calculated columns\n",
    "    flows_city['net_flow' + year] = flows_city['inflow' + year] - flows_city['outflow' + year]\n",
    "\n",
    "    return flows_city"
   ]
  },
  {
   "cell_type": "markdown",
   "metadata": {},
   "source": [
    "# NYC & NY metro"
   ]
  },
  {
   "cell_type": "code",
   "execution_count": null,
   "metadata": {
    "collapsed": true
   },
   "outputs": [],
   "source": [
    "# empty lists to hold dataframes for each year\n",
    "city_flows_dfs = []\n",
    "metro_flows_dfs = []"
   ]
  },
  {
   "cell_type": "code",
   "execution_count": null,
   "metadata": {
    "collapsed": true
   },
   "outputs": [],
   "source": [
    "# run the functions to get inflow/outflow data for New York city and for NY metro area\n",
    "# for each year and append the results to a list\n",
    "for year in years:\n",
    "    city_flows_dfs.append (get_flows_by_city (year, nyc))\n",
    "\n",
    "for year in years:\n",
    "    metro_flows_dfs.append (get_flows_by_city (year, nyma))\n",
    "\n",
    "# merge all years dfs for NYC (Metro) from the list into a single df\n",
    "city_flows=reduce(lambda x, y: pd.merge(x, y, on = ['co_fips', 'co_name', 'state', 'cbsa_code', 'cbsa_name'], how='outer'), city_flows_dfs)\n",
    "metro_flows=reduce(lambda x, y: pd.merge(x, y, on = ['co_fips', 'co_name', 'state', 'cbsa_code', 'cbsa_name'], how='outer'), metro_flows_dfs)"
   ]
  },
  {
   "cell_type": "code",
   "execution_count": null,
   "metadata": {},
   "outputs": [],
   "source": [
    "# county-level migration flows for NYC \n",
    "city_flows.head()"
   ]
  },
  {
   "cell_type": "code",
   "execution_count": null,
   "metadata": {},
   "outputs": [],
   "source": [
    "# county-level migration flows for NYMA\n",
    "metro_flows.head()"
   ]
  },
  {
   "cell_type": "code",
   "execution_count": null,
   "metadata": {},
   "outputs": [],
   "source": [
    "city_flows.inflow2011_12.dtype"
   ]
  },
  {
   "cell_type": "code",
   "execution_count": null,
   "metadata": {
    "collapsed": true
   },
   "outputs": [],
   "source": [
    "# pandas originally assigned float datatype to the columns containing number of migrants\n",
    "# change datatype to integers\n",
    "cols_to_int=['inflow2011_12','outflow2011_12','net_flow2011_12','inflow2012_13','outflow2012_13',\n",
    "             'net_flow2012_13','inflow2013_14','outflow2013_14','net_flow2013_14',\n",
    "             'inflow2014_15','outflow2014_15','net_flow2014_15']"
   ]
  },
  {
   "cell_type": "code",
   "execution_count": null,
   "metadata": {
    "collapsed": true
   },
   "outputs": [],
   "source": [
    "# before coverting to integers, we neeed to fill nulls with 0 in numerical columns only\n",
    "for c in city_flows.columns:\n",
    "    if city_flows[c].dtype.kind in 'if':\n",
    "        city_flows[c].fillna(0, inplace=True)\n",
    "        \n",
    "for c in metro_flows.columns:\n",
    "    if metro_flows[c].dtype.kind in 'if':\n",
    "        metro_flows[c].fillna(0, inplace=True)"
   ]
  },
  {
   "cell_type": "code",
   "execution_count": null,
   "metadata": {
    "collapsed": true
   },
   "outputs": [],
   "source": [
    "city_flows[cols_to_int]=city_flows[cols_to_int].applymap(np.int64)\n",
    "metro_flows[cols_to_int]=metro_flows[cols_to_int].applymap(np.int64)"
   ]
  },
  {
   "cell_type": "code",
   "execution_count": null,
   "metadata": {},
   "outputs": [],
   "source": [
    "city_flows.info()"
   ]
  },
  {
   "cell_type": "code",
   "execution_count": null,
   "metadata": {
    "collapsed": true
   },
   "outputs": [],
   "source": [
    "# get subsets of domestic and foreign flows separately\n",
    "domestic_city_flows=city_flows[~city_flows['co_fips'].isin (foreign)].copy()\n",
    "foreign_city_flows=city_flows[city_flows['co_fips'].isin (foreign)].copy()\n",
    "\n",
    "domestic_metro_flows=metro_flows[~metro_flows['co_fips'].isin (foreign)].copy()\n",
    "foreign_metro_flows=metro_flows[metro_flows['co_fips'].isin (foreign)].copy()"
   ]
  },
  {
   "cell_type": "code",
   "execution_count": null,
   "metadata": {},
   "outputs": [],
   "source": [
    "# group NYMA county-level flows by metro area to get metro-level flows for NYMA\n",
    "grouped_by_metro=metro_flows.groupby(['cbsa_name','cbsa_code']).sum().reset_index()\n",
    "grouped_by_metro.head()"
   ]
  },
  {
   "cell_type": "code",
   "execution_count": null,
   "metadata": {
    "collapsed": true
   },
   "outputs": [],
   "source": [
    "# create ranks for inflow and outflow for each year for both city and metro-level flows to identify top places\n",
    "for col in [c for c in domestic_city_flows.columns if 'inflow' in c or 'outflow' in c]:\n",
    "    yr = col[-7:]\n",
    "    in_out = col[0:2]\n",
    "    domestic_city_flows['{}_rank{}'.format (in_out, yr)] = city_flows[col].rank (method='dense', ascending=False)\n",
    "    grouped_by_metro['{}_rank{}'.format (in_out, yr)] = grouped_by_metro[col].rank (method='dense', ascending=False)"
   ]
  },
  {
   "cell_type": "code",
   "execution_count": null,
   "metadata": {
    "collapsed": true
   },
   "outputs": [],
   "source": [
    "# add cummulative numbers for inflow, outflow, and netflow for city and metro \n",
    "# these are totals for all 4 years\n",
    "domestic_city_flows['tot_inflow']=domestic_city_flows[['inflow2011_12','inflow2012_13',\n",
    "                               'inflow2013_14','inflow2014_15']].sum(axis=1)\n",
    "\n",
    "domestic_city_flows['tot_outflow']=domestic_city_flows[['outflow2011_12','outflow2012_13',\n",
    "                               'outflow2013_14','outflow2014_15']].sum(axis=1)\n",
    "\n",
    "domestic_city_flows['tot_net_flow']=domestic_city_flows['tot_inflow']-domestic_city_flows['tot_outflow']"
   ]
  },
  {
   "cell_type": "code",
   "execution_count": null,
   "metadata": {
    "collapsed": true
   },
   "outputs": [],
   "source": [
    "grouped_by_metro['tot_inflow']=grouped_by_metro[['inflow2011_12','inflow2012_13',\n",
    "                               'inflow2013_14','inflow2014_15']].sum(axis=1)\n",
    "\n",
    "grouped_by_metro['tot_outflow']=grouped_by_metro[['outflow2011_12','outflow2012_13',\n",
    "                               'outflow2013_14','outflow2014_15']].sum(axis=1)\n",
    "\n",
    "grouped_by_metro['tot_net_flow']=grouped_by_metro['tot_inflow']-grouped_by_metro['tot_outflow']"
   ]
  },
  {
   "cell_type": "code",
   "execution_count": null,
   "metadata": {
    "collapsed": true
   },
   "outputs": [],
   "source": [
    "# add net change for each year\n",
    "for i, year in enumerate(years):\n",
    "    if i+1<len(years):\n",
    "        # this is the name of the column that holds net flow change between 2 periods\n",
    "        yr_change='net_change'+years[i].split('_')[1]+'_'+years[i+1].split('_')[1]\n",
    "        \n",
    "        domestic_city_flows[yr_change]=domestic_city_flows['net_flow'+years[i+1]]-domestic_city_flows['net_flow'+years[i]]\n",
    "        grouped_by_metro[yr_change]=grouped_by_metro['net_flow'+years[i+1]]-grouped_by_metro['net_flow'+years[i]]       "
   ]
  },
  {
   "cell_type": "code",
   "execution_count": null,
   "metadata": {
    "collapsed": true
   },
   "outputs": [],
   "source": [
    "# write the resulting data out to use for mapping in QGIS \n",
    "#domestic_city_flows.to_csv('yrs_2011_2015_nyc_mig_by_county.csv')\n",
    "#grouped_by_metro.to_csv('yrs_2011_2015_ny_mig_by_metro.csv')"
   ]
  },
  {
   "cell_type": "markdown",
   "metadata": {},
   "source": [
    "Write out a subset of columns for each dataframe as supplemetal tables"
   ]
  },
  {
   "cell_type": "code",
   "execution_count": null,
   "metadata": {
    "collapsed": true
   },
   "outputs": [],
   "source": [
    "domestic_city_flows[['co_fips','co_name','state','inflow2011_12','outflow2011_12','net_flow2011_12','inflow2012_13',\n",
    "                     'outflow2012_13','net_flow2012_13','inflow2013_14','outflow2013_14','net_flow2013_14',\n",
    "                     'inflow2014_15','outflow2014_15','net_flow2014_15','tot_inflow',\n",
    "                     'tot_outflow','tot_net_flow']].to_csv(os.path.join(project_path,'data','irs_mig_flows_nyc_2011_15.csv'))"
   ]
  },
  {
   "cell_type": "code",
   "execution_count": null,
   "metadata": {},
   "outputs": [],
   "source": [
    "grouped_by_metro[['cbsa_code','cbsa_name','inflow2011_12','outflow2011_12','net_flow2011_12','inflow2012_13',\n",
    "                     'outflow2012_13','net_flow2012_13','inflow2013_14','outflow2013_14','net_flow2013_14',\n",
    "                     'inflow2014_15','outflow2014_15','net_flow2014_15','tot_inflow',\n",
    "                     'tot_outflow','tot_net_flow']].to_csv(os.path.join(project_path,'data','irs_mig_flows_nyma_2011_15.csv'))"
   ]
  },
  {
   "cell_type": "markdown",
   "metadata": {},
   "source": [
    "##  Summary Tables and Plots"
   ]
  },
  {
   "cell_type": "code",
   "execution_count": null,
   "metadata": {
    "collapsed": true
   },
   "outputs": [],
   "source": [
    "def get_total_flows(df):\n",
    "  in_mig=pd.DataFrame(df[['inflow2011_12','inflow2012_13','inflow2013_14','inflow2014_15']].sum(axis=0), columns=['in_migration']).reset_index().rename(columns={'index':'years'})\n",
    "  in_mig['years']=in_mig.years.apply(lambda x :x[-7:])\n",
    "  out_mig=pd.DataFrame(df[['outflow2011_12','outflow2012_13','outflow2013_14','outflow2014_15']].sum(axis=0), columns=['out_migration']).reset_index().rename(columns={'index':'years'})\n",
    "  out_mig['years']=out_mig.years.apply(lambda x :x[-7:])\n",
    "  df_total=pd.merge(in_mig,out_mig, on='years')\n",
    "  df_total['net_migration']=df_total['in_migration']-df_total['out_migration']\n",
    "  df_total.set_index('years',inplace=True)  \n",
    "  return df_total"
   ]
  },
  {
   "cell_type": "code",
   "execution_count": null,
   "metadata": {
    "collapsed": true
   },
   "outputs": [],
   "source": [
    "# total domestic and foreign migrations for NYC \n",
    "total_city_foreign=get_total_flows(foreign_city_flows)\n",
    "total_city_dom=get_total_flows(domestic_city_flows)\n",
    "\n",
    "# year by year domestic migration to nyma from counties \n",
    "total_metro_dom=get_total_flows(domestic_metro_flows)\n",
    "total_metro_foreign=get_total_flows(foreign_metro_flows)\n",
    "\n",
    "# year by year migration to nyma from other metros \n",
    "total_by_metro_dom=get_total_flows(grouped_by_metro)"
   ]
  },
  {
   "cell_type": "code",
   "execution_count": null,
   "metadata": {},
   "outputs": [],
   "source": [
    "total_metro_dom"
   ]
  },
  {
   "cell_type": "code",
   "execution_count": null,
   "metadata": {},
   "outputs": [],
   "source": [
    "total_metro_foreign"
   ]
  },
  {
   "cell_type": "code",
   "execution_count": null,
   "metadata": {},
   "outputs": [],
   "source": [
    "total_by_metro_dom"
   ]
  },
  {
   "cell_type": "code",
   "execution_count": null,
   "metadata": {},
   "outputs": [],
   "source": [
    "total_city_dom"
   ]
  },
  {
   "cell_type": "code",
   "execution_count": null,
   "metadata": {},
   "outputs": [],
   "source": [
    "total_city_foreign"
   ]
  },
  {
   "cell_type": "code",
   "execution_count": null,
   "metadata": {
    "collapsed": true
   },
   "outputs": [],
   "source": [
    "# year by year plots\n",
    "def plot_migration(df, colors):\n",
    "    ax=df[['in_migration','out_migration']].plot(kind='bar', rot=0, legend=False, color=colors[0:2])\n",
    "    df['net_migration'].plot(kind='bar', ax=ax, rot=0, color=colors[2], width=0.2)\n",
    "    ax.legend (['Inflows','Outflows','Net Flow'],loc=8, bbox_to_anchor=(0.5, -0.3),ncol=3, fontsize=12, frameon=False)\n",
    "    ax.set_xlabel('')\n",
    "    ax.get_yaxis().set_major_formatter(plt.FuncFormatter(lambda x, loc: \"{:,}\".format(int(x))))\n",
    "    # ticks labels size\n",
    "    plt.xticks(fontsize=12)\n",
    "    plt.yticks(fontsize=12)\n",
    "    plt.show()\n",
    "    return ax"
   ]
  },
  {
   "cell_type": "code",
   "execution_count": null,
   "metadata": {},
   "outputs": [],
   "source": [
    "# plot each\n",
    "pl1=plot_migration(total_city_dom, flowcolor3)\n",
    "f=pl1.get_figure()\n",
    "f.savefig(os.path.join(project_path, 'images','nyc_dom_yrly.png'),bbox_inches='tight')\n",
    "\n",
    "#pl2=plot_migration(total_city_foreign, flowcolor3)\n",
    "#f2=pl2.get_figure()\n",
    "#f2.savefig(os.path.join(project_path, 'images','nyc_forgn_yrly.png'),bbox_inches='tight')\n",
    "\n",
    "pl3=plot_migration(total_by_metro_dom, flowcolor3)\n",
    "f3=pl3.get_figure()\n",
    "f3.savefig(os.path.join(project_path, 'images','nyma_dom_yrly.png'),bbox_inches='tight')"
   ]
  },
  {
   "cell_type": "code",
   "execution_count": null,
   "metadata": {},
   "outputs": [],
   "source": [
    "# for cummulative, just sum the rows \n",
    "total_city_dom.sum()"
   ]
  },
  {
   "cell_type": "code",
   "execution_count": null,
   "metadata": {},
   "outputs": [],
   "source": [
    "# put cummulative in one table \n",
    "cum_mig=pd.concat([total_city_dom.sum(),total_city_foreign.sum(),total_metro_dom.sum(), total_metro_foreign.sum()], axis=1)\n",
    "cum_mig.columns=['domestic_mig_nyc','foreign_mig_nyc', 'domestic_mig_nyma','foreign_mig_nyma']\n",
    "cum_mig"
   ]
  },
  {
   "cell_type": "code",
   "execution_count": null,
   "metadata": {},
   "outputs": [],
   "source": [
    "# format the table for output into latex document\n",
    "cum_mig_latex=cum_mig[['domestic_mig_nyc','domestic_mig_nyma']].T\n",
    "cum_mig_latex.rename(index={'domestic_mig_nyc':'New York City','domestic_mig_nyma':'New York Metro'}, \n",
    "                     columns={'in_migration':'In Flows','out_migration':'Out Flows','net_migration':'Net Flow'},inplace=True)\n",
    "\n",
    "cum_mig_latex"
   ]
  },
  {
   "cell_type": "code",
   "execution_count": null,
   "metadata": {},
   "outputs": [],
   "source": [
    "cum_mig_latex.to_latex()"
   ]
  },
  {
   "cell_type": "markdown",
   "metadata": {},
   "source": [
    "## Top Places "
   ]
  },
  {
   "cell_type": "code",
   "execution_count": null,
   "metadata": {
    "collapsed": true
   },
   "outputs": [],
   "source": [
    "# number of top places\n",
    "top = 10"
   ]
  },
  {
   "cell_type": "code",
   "execution_count": null,
   "metadata": {
    "collapsed": true
   },
   "outputs": [],
   "source": [
    "# not all top places in one year remain top in other years\n",
    "# these functions select places that were ranked 1-top in any of the 4-year period\n",
    "def get_top_senders(df):\n",
    "    all_time_top_senders = \\\n",
    "        df[\n",
    "            (df['in_rank2011_12'] <= top) | (df['in_rank2012_13'] <= top) | (\n",
    "                df['in_rank2013_14'] <= top) | (\n",
    "                df['in_rank2014_15'] <= top)].copy()\n",
    "\n",
    "    return all_time_top_senders\n",
    "    \n",
    "def get_top_receivers(df):    \n",
    "    all_time_top_receivers = \\\n",
    "        df[\n",
    "            (df['ou_rank2011_12'] <= top) | (df['ou_rank2012_13'] <= top) | (\n",
    "                df['ou_rank2013_14'] <= top) | (df['ou_rank2014_15'] <= top)].copy()\n",
    "\n",
    "    return all_time_top_receivers"
   ]
  },
  {
   "cell_type": "code",
   "execution_count": null,
   "metadata": {
    "collapsed": true
   },
   "outputs": [],
   "source": [
    "# get top places for city \n",
    "top_senders_to_nyc=get_top_senders(domestic_city_flows)\n",
    "top_senders_to_nyc['county'] = top_senders_to_nyc['co_name'] + \",\" + top_senders_to_nyc['state']\n",
    "top_senders_to_nyc = top_senders_to_nyc.set_index ('county').drop (['co_name', 'state'], 1)\n",
    "\n",
    "top_receivers_from_nyc=get_top_receivers(domestic_city_flows)\n",
    "top_receivers_from_nyc['county'] = top_receivers_from_nyc['co_name'] + \",\" + top_receivers_from_nyc['state']\n",
    "top_receivers_from_nyc = top_receivers_from_nyc.set_index ('county').drop (['co_name', 'state'], 1)"
   ]
  },
  {
   "cell_type": "code",
   "execution_count": null,
   "metadata": {
    "collapsed": true
   },
   "outputs": [],
   "source": [
    "# get top senders/receivers for metro area\n",
    "top_senders_to_nyma=get_top_senders(grouped_by_metro)\n",
    "top_receivers_from_nyma=get_top_receivers(grouped_by_metro)"
   ]
  },
  {
   "cell_type": "code",
   "execution_count": null,
   "metadata": {},
   "outputs": [],
   "source": [
    "# look at the yearly migration from NYC to top receiving counties\n",
    "top_receivers_from_nyc[['outflow2011_12','outflow2012_13','outflow2013_14','outflow2014_15']].sort_values(['outflow2011_12','outflow2012_13','outflow2013_14','outflow2014_15'], ascending=False)"
   ]
  },
  {
   "cell_type": "code",
   "execution_count": null,
   "metadata": {},
   "outputs": [],
   "source": [
    "# look at the yearly migration to NYC from top sending counties\n",
    "top_senders_to_nyc[['inflow2011_12','inflow2012_13','inflow2013_14','inflow2014_15']].sort_values(['inflow2011_12','inflow2012_13','inflow2013_14','inflow2014_15'], ascending=False)"
   ]
  },
  {
   "cell_type": "code",
   "execution_count": null,
   "metadata": {},
   "outputs": [],
   "source": [
    "# look at the yearly migration to NYC from top sending counties\n",
    "ax=top_senders_to_nyc[['inflow2011_12','inflow2012_13','inflow2013_14','inflow2014_15']].T.plot(kind='bar', rot=0, colormap='Paired')\n",
    "ax.legend (bbox_to_anchor=(1.07, 1), loc='upper left')\n",
    "ax.get_yaxis().set_major_formatter(plt.FuncFormatter(lambda x, loc: \"{:,}\".format(int(x))))\n",
    "ax.set_xticklabels(years)\n",
    "plt.show()"
   ]
  },
  {
   "cell_type": "code",
   "execution_count": null,
   "metadata": {},
   "outputs": [],
   "source": [
    "# yearly migration from NYMA to top receiving counties\n",
    "top_receivers_from_nyma[['cbsa_name','outflow2011_12','outflow2012_13','outflow2013_14','outflow2014_15']].sort_values(['outflow2011_12','outflow2012_13','outflow2013_14','outflow2014_15'], ascending=False)"
   ]
  },
  {
   "cell_type": "code",
   "execution_count": null,
   "metadata": {},
   "outputs": [],
   "source": [
    "# yearly migration to NYMA from top sending counties\n",
    "top_senders_to_nyma[['cbsa_name','inflow2011_12','inflow2012_13','inflow2013_14','inflow2014_15']].sort_values(['inflow2011_12','inflow2012_13','inflow2013_14','inflow2014_15'], ascending=False)"
   ]
  },
  {
   "cell_type": "code",
   "execution_count": null,
   "metadata": {
    "collapsed": true
   },
   "outputs": [],
   "source": [
    "def plot_ranks(df, cols, title):\n",
    "\n",
    "    \"\"\"function to plot change in ranks over time\n",
    "    :param df: dataframe to plot\n",
    "    :param cols: a list of colum ranks to plot \n",
    "    :param title: Tile to display\n",
    "    \"\"\"\n",
    "    df_ranks=df[cols]\n",
    "    df_ranks.columns = [col[-7:] if 'rank' in col else col for col in df_ranks.columns]\n",
    "    ax = df_ranks.T.plot (colormap='Paired')\n",
    "    ax.invert_yaxis ()\n",
    "    ax.yaxis.set_major_locator (ticker.MaxNLocator (integer=True)) # display only whole numbers\n",
    "    ax.legend (bbox_to_anchor=(1.07, 1), loc='upper left')\n",
    "    ax.set_xlabel ('Year')\n",
    "    ax.set_ylabel ('Rank')\n",
    "    ax2 = ax.twinx () # get second y axis on the right\n",
    "    ax2.yaxis.set_major_locator (ticker.MaxNLocator (integer=True))\n",
    "    ax2.set_ylim (ax.get_ylim ())\n",
    "    plt.title (title)\n",
    "    plt.show ()"
   ]
  },
  {
   "cell_type": "code",
   "execution_count": null,
   "metadata": {},
   "outputs": [],
   "source": [
    "# plot change in ranks for top places that send migrants to NYC\n",
    "plot_ranks (top_senders_to_nyc,['in_rank2011_12', 'in_rank2012_13', 'in_rank2013_14', 'in_rank2014_15'], 'Change in Ranks for Top Migrant Senders to NYC')"
   ]
  },
  {
   "cell_type": "code",
   "execution_count": null,
   "metadata": {},
   "outputs": [],
   "source": [
    "# plot change in ranks for top places that receive migrants from NYC\n",
    "plot_ranks (top_receivers_from_nyc,['ou_rank2011_12', 'ou_rank2012_13', 'ou_rank2013_14', 'ou_rank2014_15'], 'Change in Ranks for Top Migrant Receivers from NYC')"
   ]
  },
  {
   "cell_type": "code",
   "execution_count": null,
   "metadata": {},
   "outputs": [],
   "source": [
    "# same for NYMA\n",
    "plot_ranks (top_senders_to_nyma.set_index('cbsa_name'),['in_rank2011_12', 'in_rank2012_13', 'in_rank2013_14', 'in_rank2014_15'], 'Change in Ranks for Top Migrant Senders to New York Metro Area')"
   ]
  },
  {
   "cell_type": "code",
   "execution_count": null,
   "metadata": {},
   "outputs": [],
   "source": [
    "plot_ranks (top_receivers_from_nyma.set_index('cbsa_name'),['ou_rank2011_12', 'ou_rank2012_13', 'ou_rank2013_14', 'ou_rank2014_15'], 'Change in Ranks for Top Migrant Receivers from New York Metro Area')"
   ]
  },
  {
   "cell_type": "markdown",
   "metadata": {},
   "source": [
    "## Deficit areas (negative net change) and Surpus Areas (positive net change)"
   ]
  },
  {
   "cell_type": "markdown",
   "metadata": {
    "collapsed": true
   },
   "source": [
    "The top deficit and surplus areas aren't same over the years. We can look at them one year at a time"
   ]
  },
  {
   "cell_type": "code",
   "execution_count": null,
   "metadata": {},
   "outputs": [],
   "source": [
    "# top surplus (send more to NYC than recieve from NYC) counties for 2011-2012\n",
    "domestic_city_flows[['co_name','state','net_flow2011_12']].sort_values('net_flow2011_12', ascending=False).head(n=20)"
   ]
  },
  {
   "cell_type": "code",
   "execution_count": null,
   "metadata": {},
   "outputs": [],
   "source": [
    "# top deficit (receive more from NYC than send to NYC) counties for 2011-2012\n",
    "domestic_city_flows[['co_name','state','net_flow2011_12']].sort_values('net_flow2011_12', ascending=True).head(n=20)"
   ]
  },
  {
   "cell_type": "markdown",
   "metadata": {},
   "source": [
    "We can look at top places for cummulative (all 4 years) flows"
   ]
  },
  {
   "cell_type": "code",
   "execution_count": null,
   "metadata": {
    "collapsed": true
   },
   "outputs": [],
   "source": [
    "domestic_city_flows['label']=domestic_city_flows['co_name']+', '+domestic_city_flows['state']"
   ]
  },
  {
   "cell_type": "code",
   "execution_count": null,
   "metadata": {
    "collapsed": true
   },
   "outputs": [],
   "source": [
    "def plot_cum_top_places(df, col, label, color, title, n=20, high_to_low=True):\n",
    "    if high_to_low:\n",
    "        top_n=df[[col,label]].sort_values(col, ascending=False).head(n=n)\n",
    "    else:\n",
    "        top_n=df[[col,label]].sort_values(col, ascending=True).head(n=n)\n",
    "    ax=top_n.set_index(label).plot(kind='barh', color=color, figsize=(8,6))\n",
    "    ax.get_xaxis().set_major_formatter(plt.FuncFormatter(lambda x, loc: \"{:,}\".format(int(x))))\n",
    "    ax.set_title(title)\n",
    "    ax.set_ylabel('')\n",
    "    plt.show()      "
   ]
  },
  {
   "cell_type": "code",
   "execution_count": null,
   "metadata": {},
   "outputs": [],
   "source": [
    "plot_cum_top_places(domestic_city_flows,'tot_inflow','label','green','Domestic Migration to NYC (2011-2015): Top 20 Migrant Senders')"
   ]
  },
  {
   "cell_type": "code",
   "execution_count": null,
   "metadata": {},
   "outputs": [],
   "source": [
    "plot_cum_top_places(domestic_city_flows,'tot_outflow','label','purple','Domestic Migration to NYC (2011-2015): Top 20 Migrant Receivers')"
   ]
  },
  {
   "cell_type": "code",
   "execution_count": null,
   "metadata": {},
   "outputs": [],
   "source": [
    "plot_cum_top_places(domestic_city_flows,'tot_net_flow','label','red','Domestic Migration to NYC (2011-2015): Top 20 Deficit Counties', high_to_low=False)"
   ]
  },
  {
   "cell_type": "code",
   "execution_count": null,
   "metadata": {},
   "outputs": [],
   "source": [
    "plot_cum_top_places(domestic_city_flows,'tot_net_flow','label','blue','Domestic Migration to NYC (2011-2015): Top 20 Surplus Counties')"
   ]
  },
  {
   "cell_type": "code",
   "execution_count": null,
   "metadata": {},
   "outputs": [],
   "source": [
    "plot_cum_top_places(grouped_by_metro.reset_index(),'tot_inflow','cbsa_name','green','Domestic Migration to NYMA: Top 20 Senders')"
   ]
  },
  {
   "cell_type": "code",
   "execution_count": null,
   "metadata": {},
   "outputs": [],
   "source": [
    "plot_cum_top_places(grouped_by_metro.reset_index(),'tot_outflow','cbsa_name','purple','Domestic Migration to NYMA (2011-2015): Top 20 Migrant Receivers')"
   ]
  },
  {
   "cell_type": "code",
   "execution_count": null,
   "metadata": {},
   "outputs": [],
   "source": [
    "plot_cum_top_places(grouped_by_metro.reset_index(),'tot_net_flow','cbsa_name','red','Domestic Migration to NYMA (2011-2015): Top 20 Deficit Metro Areas', high_to_low=False)"
   ]
  },
  {
   "cell_type": "code",
   "execution_count": null,
   "metadata": {},
   "outputs": [],
   "source": [
    "plot_cum_top_places(grouped_by_metro.reset_index(),'tot_net_flow','cbsa_name','blue','Domestic Migration to NYMA (2011-2015): Top 20 Surplus Counties')"
   ]
  },
  {
   "cell_type": "markdown",
   "metadata": {},
   "source": [
    "## Net Totals Tables"
   ]
  },
  {
   "cell_type": "code",
   "execution_count": null,
   "metadata": {},
   "outputs": [],
   "source": [
    "domestic_city_flows.sort_values(by='tot_net_flow',inplace=True)\n",
    "citytop20net=domestic_city_flows[domestic_city_flows.co_fips != '59000'][['label','tot_net_flow']].head(n=20)\n",
    "citytop20net.set_index('label',inplace=True)\n",
    "print(citytop20net.to_latex())"
   ]
  },
  {
   "cell_type": "code",
   "execution_count": null,
   "metadata": {},
   "outputs": [],
   "source": [
    "citybot10net=domestic_city_flows[['label','tot_net_flow']].tail(n=10)\n",
    "citybot10net.set_index('label',inplace=True)\n",
    "citybot10net.sort_values(by='tot_net_flow', ascending=False, inplace=True)\n",
    "print(citybot10net.to_latex())"
   ]
  },
  {
   "cell_type": "code",
   "execution_count": null,
   "metadata": {
    "scrolled": true
   },
   "outputs": [],
   "source": [
    "grouped_by_metro.sort_values(by='tot_net_flow',inplace=True)\n",
    "metrotop20net=grouped_by_metro[['cbsa_name','tot_net_flow']].head(n=20)\n",
    "metrotop20net.set_index('cbsa_name',inplace=True)\n",
    "print(metrotop20net.to_latex())"
   ]
  },
  {
   "cell_type": "code",
   "execution_count": null,
   "metadata": {},
   "outputs": [],
   "source": [
    "metrobot10net=grouped_by_metro[['cbsa_name','tot_net_flow']].tail(n=10)\n",
    "metrobot10net.set_index('cbsa_name',inplace=True)\n",
    "metrobot10net.sort_values(by='tot_net_flow', ascending=False, inplace=True)\n",
    "print(metrobot10net.to_latex())"
   ]
  },
  {
   "cell_type": "markdown",
   "metadata": {},
   "source": [
    "## Urban Suburban Status"
   ]
  },
  {
   "cell_type": "code",
   "execution_count": null,
   "metadata": {
    "collapsed": true
   },
   "outputs": [],
   "source": [
    "# function to label counties in metro as 'suburban' and others as 'distant'\n",
    "def is_suburban(col, metro):\n",
    "    if col in metro:\n",
    "        return 'suburban'\n",
    "    else:\n",
    "        return 'distant'"
   ]
  },
  {
   "cell_type": "code",
   "execution_count": null,
   "metadata": {
    "collapsed": true
   },
   "outputs": [],
   "source": [
    "domestic_city_flows['cnty_status']=domestic_city_flows.co_fips.apply(lambda x: is_suburban(x, nyma))"
   ]
  },
  {
   "cell_type": "code",
   "execution_count": null,
   "metadata": {
    "collapsed": true
   },
   "outputs": [],
   "source": [
    "by_status=domestic_city_flows[['cnty_status','inflow2011_12','inflow2012_13',\n",
    "                               'inflow2013_14','inflow2014_15',\n",
    "                              'outflow2011_12','outflow2012_13',\n",
    "                               'outflow2013_14','outflow2014_15']].groupby('cnty_status').sum()"
   ]
  },
  {
   "cell_type": "code",
   "execution_count": null,
   "metadata": {
    "collapsed": true
   },
   "outputs": [],
   "source": [
    "by_status['pct_dif_inflow']=(by_status['inflow2014_15']-by_status['inflow2011_12'])/by_status['inflow2011_12']*100\n",
    "by_status['pct_dif_outflow']=(by_status['outflow2014_15']-by_status['outflow2011_12'])/by_status['outflow2011_12']*100\n",
    "by_status['tot_inflow']=by_status[['inflow2011_12','inflow2012_13',\n",
    "                               'inflow2013_14','inflow2014_15']].sum(axis=1)\n",
    "by_status['tot_outflow']=by_status[['outflow2011_12','outflow2012_13',\n",
    "                               'outflow2013_14','outflow2014_15']].sum(axis=1)"
   ]
  },
  {
   "cell_type": "code",
   "execution_count": null,
   "metadata": {},
   "outputs": [],
   "source": [
    "by_status"
   ]
  },
  {
   "cell_type": "code",
   "execution_count": null,
   "metadata": {},
   "outputs": [],
   "source": [
    "# inflows and outflows to NYC from suburban counties accounted for more than third of all domestic NYC flows \n",
    "ax=by_status[['tot_inflow','tot_outflow']].plot.pie(subplots=True, legend=False, autopct='%1.1f%%',figsize=(8,4),colormap='Paired')"
   ]
  },
  {
   "cell_type": "code",
   "execution_count": null,
   "metadata": {},
   "outputs": [],
   "source": [
    "# yearly change in inflows to NYC for suburban and distant counties\n",
    "by_status[['inflow2011_12','inflow2012_13',\n",
    "                               'inflow2013_14','inflow2014_15']].T.plot(kind='bar', rot=30, colormap='Paired')"
   ]
  },
  {
   "cell_type": "markdown",
   "metadata": {},
   "source": [
    "## Top Places in one table"
   ]
  },
  {
   "cell_type": "markdown",
   "metadata": {},
   "source": [
    "Most of the top senders to NYC/NYMA are also top receivers from NYC/NYMA. We can look at them in a single table/chart."
   ]
  },
  {
   "cell_type": "code",
   "execution_count": null,
   "metadata": {
    "collapsed": true
   },
   "outputs": [],
   "source": [
    "domestic_city_flows.set_index('co_fips', inplace=True)"
   ]
  },
  {
   "cell_type": "code",
   "execution_count": null,
   "metadata": {
    "collapsed": true
   },
   "outputs": [],
   "source": [
    "# get the list of top sending/receiving counties\n",
    "top_inflows=domestic_city_flows['tot_inflow'].sort_values(ascending=False).head(n=16)\n",
    "top_outflows=domestic_city_flows['tot_outflow'].sort_values(ascending=False).head(n=16)\n",
    "counties_for_plot=top_inflows.index.tolist()\n",
    "counties_for_plot.extend(top_outflows.index.tolist())"
   ]
  },
  {
   "cell_type": "code",
   "execution_count": null,
   "metadata": {},
   "outputs": [],
   "source": [
    "counties_for_plot=set(counties_for_plot)\n",
    "# some places only appear in only one of the tables--we end up with more than 16 places\n",
    "len(counties_for_plot)"
   ]
  },
  {
   "cell_type": "code",
   "execution_count": null,
   "metadata": {},
   "outputs": [],
   "source": [
    "df_to_plot=domestic_city_flows.loc[counties_for_plot,['label','tot_inflow','tot_outflow']]\n",
    "df_to_plot.sort_values(by='tot_outflow',ascending=False, inplace=True)\n",
    "df_to_plot"
   ]
  },
  {
   "cell_type": "code",
   "execution_count": null,
   "metadata": {},
   "outputs": [],
   "source": [
    "# drop Other flows-Different State and plot\n",
    "axc=df_to_plot.drop('59000').set_index('label').plot(kind='barh',figsize=(8,7), color=flowcolor2)\n",
    "axc.legend(['Coming to NYC','Leaving from NYC'], loc='best',fontsize=12, frameon=False)\n",
    "axc.invert_yaxis()\n",
    "axc.set_ylabel('')\n",
    "axc.set_xlabel('Migrants')\n",
    "axc.get_xaxis().set_major_formatter(plt.FuncFormatter(lambda x, loc: \"{:,}\".format(int(x))))\n",
    "\n",
    "# ticks labels size\n",
    "plt.xticks(fontsize=12)\n",
    "plt.yticks(fontsize=12)\n",
    "plt.show()\n",
    "nyc_fig=axc.get_figure()\n",
    "nyc_fig.savefig(os.path.join(project_path, 'images','nyc_top_flow.png'),bbox_inches='tight')"
   ]
  },
  {
   "cell_type": "code",
   "execution_count": null,
   "metadata": {},
   "outputs": [],
   "source": [
    "grouped_by_metro.set_index('cbsa_code', inplace=True)\n",
    "top_m_inflows=grouped_by_metro['tot_inflow'].sort_values(ascending=False).head(n=15)\n",
    "top_m_outflows=grouped_by_metro['tot_outflow'].sort_values(ascending=False).head(n=15)\n",
    "metros_for_plot=top_m_inflows.index.tolist()\n",
    "metros_for_plot.extend(top_m_outflows.index.tolist())\n",
    "metros_for_plot=set(metros_for_plot)\n",
    "# some places only appear in only one of the tables--we end up with more than 15 places \n",
    "len(metros_for_plot)"
   ]
  },
  {
   "cell_type": "code",
   "execution_count": null,
   "metadata": {},
   "outputs": [],
   "source": [
    "dfm_to_plot=grouped_by_metro.loc[metros_for_plot,['cbsa_name','tot_inflow','tot_outflow']]\n",
    "dfm_to_plot.sort_values(by='tot_outflow',ascending=False, inplace=True)\n",
    "dfm_to_plot"
   ]
  },
  {
   "cell_type": "code",
   "execution_count": null,
   "metadata": {},
   "outputs": [],
   "source": [
    "axm=dfm_to_plot.set_index('cbsa_name').plot(kind='barh',figsize=(8,7),color=flowcolor2)\n",
    "axm.legend(['Coming to NYMA','Leaving from NYMA',], loc='best',fontsize=12, frameon=False)\n",
    "axm.set_ylabel('')\n",
    "axm.invert_yaxis()\n",
    "axm.set_xlabel('Migrants')\n",
    "axm.get_xaxis().set_major_formatter(plt.FuncFormatter(lambda x, loc: \"{:,}\".format(int(x))))\n",
    "\n",
    "# ticks labels size\n",
    "plt.xticks(fontsize=12)\n",
    "plt.yticks(fontsize=12)\n",
    "plt.show()\n",
    "nyma_fig=axm.get_figure()\n",
    "nyma_fig.savefig(os.path.join(project_path, 'images','nyma_top_flow.png'),bbox_inches='tight')"
   ]
  },
  {
   "cell_type": "markdown",
   "metadata": {},
   "source": [
    "## Comparison with other big cities and metros"
   ]
  },
  {
   "cell_type": "markdown",
   "metadata": {},
   "source": [
    "Compare cumulative flows for selected big (population over 1M ) cities"
   ]
  },
  {
   "cell_type": "code",
   "execution_count": null,
   "metadata": {
    "collapsed": true
   },
   "outputs": [],
   "source": [
    "# empty list to hold the records of the dataframe we'll build from querying the database\n",
    "df_lines=[]"
   ]
  },
  {
   "cell_type": "code",
   "execution_count": null,
   "metadata": {
    "collapsed": true
   },
   "outputs": [],
   "source": [
    "# get cumulative total domestic inflows and outflows for big cities\n",
    "for cnty in big_cities.keys():\n",
    "    \n",
    "    # exclude NYC: it consists of multiple counties and we already have the data\n",
    "    if cnty not in nyc:        \n",
    "        # yearly outflows\n",
    "        all_outs=[]        \n",
    "        # yearly inflows\n",
    "        all_ins=[]        \n",
    "        for year in years:\n",
    "            table1 = 'outflow_{}'.format (year)\n",
    "            table2 = 'inflow_{}'.format (year)\n",
    "\n",
    "            cur.execute(\"SELECT SUM (exemptions) as outflow{0} from {1} where {2}.origin='{3}' and {4}.destination!='{5}' and {6}.destination not in {7} \".format (year, table1,  table1, cnty, table1, cnty, table1, foreign))    \n",
    "            outs=cur.fetchone()[0]\n",
    "\n",
    "            cur.execute(\"SELECT SUM (exemptions) as inflow{0} from {1} where {2}.origin!='{3}' and {4}.destination='{5}' and {6}.origin not in {7} \".format (year, table2, table2, cnty, table2, cnty, table2, foreign))    \n",
    "            ins=cur.fetchone()[0]\n",
    "            \n",
    "            all_outs.append(outs)\n",
    "            all_ins.append(ins)\n",
    "        # sum yearly data\n",
    "        total_out=sum(all_outs)\n",
    "        total_in=sum(all_ins)\n",
    "        df_line=(cnty,total_in,total_out)\n",
    "        df_lines.append(df_line)"
   ]
  },
  {
   "cell_type": "code",
   "execution_count": null,
   "metadata": {
    "collapsed": true
   },
   "outputs": [],
   "source": [
    "# create a dataframe from the list \n",
    "df_cities=pd.DataFrame(df_lines, columns=['county','tot_inflow','tot_outflow'])\n",
    "df_cities['tot_net_flow']=df_cities['tot_inflow']-df_cities['tot_outflow']"
   ]
  },
  {
   "cell_type": "code",
   "execution_count": null,
   "metadata": {
    "collapsed": true
   },
   "outputs": [],
   "source": [
    "# add city names column\n",
    "city_names=pd.DataFrame.from_dict(big_cities, orient='index')\n",
    "df_cities=df_cities.merge(city_names, left_on='county', right_index=True, how='left').rename(columns={0:'city_name'})"
   ]
  },
  {
   "cell_type": "code",
   "execution_count": null,
   "metadata": {
    "collapsed": true
   },
   "outputs": [],
   "source": [
    "# append NYC records\n",
    "nyc_tot=pd.DataFrame(domestic_city_flows[['tot_inflow','tot_outflow','tot_net_flow']].sum()).T\n",
    "nyc_tot['city_name']='New York City, NY'\n",
    "df_cities=df_cities.append(nyc_tot)"
   ]
  },
  {
   "cell_type": "code",
   "execution_count": null,
   "metadata": {},
   "outputs": [],
   "source": [
    "# reorder columns; remove county column\n",
    "df_cities=df_cities[['city_name','tot_inflow','tot_outflow','tot_net_flow']]\n",
    "df_cities.sort_values(by='tot_net_flow',ascending=False, inplace=True)\n",
    "df_cities"
   ]
  },
  {
   "cell_type": "code",
   "execution_count": null,
   "metadata": {},
   "outputs": [],
   "source": [
    "# plot domestic migration for 10 big cities\n",
    "axbc=df_cities[['city_name','tot_inflow','tot_outflow']].set_index('city_name').plot(kind='barh', figsize=(8,5), color=flowcolor2)\n",
    "axbc.legend(['In Flows','Out Flows'], fontsize=12, frameon=False)\n",
    "axbc.invert_yaxis()              \n",
    "axbc.get_xaxis().set_major_formatter(plt.FuncFormatter(lambda x, loc: \"{:,}\".format(int(x))))\n",
    "axbc.set_ylabel('')\n",
    "# ticks labels size\n",
    "plt.xticks(fontsize=12)\n",
    "plt.yticks(fontsize=12)\n",
    "plt.show()\n",
    "big_c_fig=axbc.get_figure()\n",
    "big_c_fig.savefig(os.path.join(project_path, 'images','big_cities_dom.png'),bbox_inches='tight')"
   ]
  },
  {
   "cell_type": "markdown",
   "metadata": {},
   "source": [
    "Compare cumulative flows for selected largest metros"
   ]
  },
  {
   "cell_type": "code",
   "execution_count": null,
   "metadata": {
    "collapsed": true
   },
   "outputs": [],
   "source": [
    "mdf_lines=[]"
   ]
  },
  {
   "cell_type": "code",
   "execution_count": null,
   "metadata": {},
   "outputs": [],
   "source": [
    "# running this cell takes awhile\n",
    "import time\n",
    "start = time.time()\n",
    "\n",
    "for m in big_metros:\n",
    "    all_outs=[]\n",
    "    all_ins=[]\n",
    "    for year in years:\n",
    "        \n",
    "        table1 = 'outflow_{}'.format (year)\n",
    "        table2 = 'inflow_{}'.format (year)\n",
    "        \n",
    "        outflows=pd.read_sql_query (\"SELECT * from {} where {}.origin!={}.destination\".format (table1, table1, table1), con)\n",
    "        \n",
    "        outflows=outflows.merge(metros[['cbsa_code', 'cbsa_name', 'fips']], left_on='origin', right_on='fips',\n",
    "                                   how='left').drop ('fips', 1).rename(columns={'cbsa_name':'cbsa_orig_name',\n",
    "                                                                                'cbsa_code':'cbsa_orig'})\n",
    "        outflows=outflows.merge(metros[['cbsa_code', 'cbsa_name', 'fips']], left_on='destination', right_on='fips',\n",
    "                                   how='left').drop ('fips', 1).rename(columns={'cbsa_name':'cbsa_dest_name',\n",
    "                                                                                'cbsa_code':'cbsa_dest'})\n",
    "        \n",
    "        inflows=pd.read_sql_query (\"SELECT * from {} where {}.origin!={}.destination\".format (table2, table2, table2), con)\n",
    "        \n",
    "        inflows=inflows.merge(metros[['cbsa_code', 'cbsa_name', 'fips']], left_on='origin', right_on='fips',\n",
    "                                   how='left').drop ('fips', 1).rename(columns={'cbsa_name':'cbsa_orig_name',\n",
    "                                                                                'cbsa_code':'cbsa_orig'})\n",
    "        inflows=inflows.merge(metros[['cbsa_code', 'cbsa_name', 'fips']], left_on='destination', right_on='fips',\n",
    "                                   how='left').drop ('fips', 1).rename(columns={'cbsa_name':'cbsa_dest_name',\n",
    "                                                                                'cbsa_code':'cbsa_dest'})\n",
    "        \n",
    "        # select & sum flows from counties that are not in the same metro and are not foreign\n",
    "        tot_out=outflows.loc[(outflows['cbsa_orig']==m) & (outflows['cbsa_dest']!=m) & (~outflows['destination'].isin(foreign)), 'exemptions'].sum()\n",
    "        \n",
    "        # select & sum flows to metro from counties that are not in the same metro and are not foreign\n",
    "        tot_in=inflows.loc[(inflows['cbsa_orig']!=m) & (inflows['cbsa_dest']==m) & (~inflows['origin'].isin(foreign)), 'exemptions'].sum()\n",
    "        \n",
    "        all_outs.append(tot_out)\n",
    "        all_ins.append(tot_in)\n",
    "        \n",
    "    total_out=sum(all_outs)\n",
    "    total_in=sum(all_ins)\n",
    "    df_line=(m,total_in,total_out)\n",
    "    mdf_lines.append(df_line)\n",
    "    \n",
    "end = time.time()\n",
    "print(int(end - start), 'seconds passed')"
   ]
  },
  {
   "cell_type": "code",
   "execution_count": null,
   "metadata": {},
   "outputs": [],
   "source": [
    "mdf_lines"
   ]
  },
  {
   "cell_type": "code",
   "execution_count": null,
   "metadata": {},
   "outputs": [],
   "source": [
    "df_metros=pd.DataFrame(mdf_lines, columns=['cbsa','tot_inflow','tot_outflow'])\n",
    "df_metros['tot_net_flow']=df_metros['tot_inflow']-df_metros['tot_outflow']\n",
    "df_metros"
   ]
  },
  {
   "cell_type": "code",
   "execution_count": null,
   "metadata": {},
   "outputs": [],
   "source": [
    "# add metro names to cbsa codes and merge\n",
    "metro_names=metros[['cbsa_name','cbsa_code']].drop_duplicates()\n",
    "df_metros=df_metros.merge(metro_names, left_on='cbsa', right_on='cbsa_code').drop('cbsa_code',1)\n",
    "df_metros.sort_values(by='tot_net_flow', ascending=False, inplace=True)\n",
    "df_metros"
   ]
  },
  {
   "cell_type": "code",
   "execution_count": null,
   "metadata": {},
   "outputs": [],
   "source": [
    "# plot domestic migration for big metros\n",
    "axbm=df_metros[['cbsa_name','tot_inflow','tot_outflow']].set_index('cbsa_name').plot(kind='barh', figsize=(8,6), color=flowcolor2)\n",
    "axbm.legend(['In Flows','Out Flows'], fontsize=12, frameon=False)\n",
    "axbm.get_xaxis().set_major_formatter(plt.FuncFormatter(lambda x, loc: \"{:,}\".format(int(x))))\n",
    "axbm.invert_yaxis() \n",
    "axbm.set_ylabel('')\n",
    "# ticks labels size\n",
    "plt.xticks(fontsize=12)\n",
    "plt.yticks(fontsize=12)\n",
    "plt.show()\n",
    "big_m_fig=axbm.get_figure()\n",
    "big_m_fig.savefig(os.path.join(project_path, 'images','big_metros_dom.png'),bbox_inches='tight')"
   ]
  },
  {
   "cell_type": "markdown",
   "metadata": {},
   "source": [
    "## Los Angeles"
   ]
  },
  {
   "cell_type": "markdown",
   "metadata": {},
   "source": [
    "Quick loook at Los Angeles City and LA metro area flows"
   ]
  },
  {
   "cell_type": "code",
   "execution_count": null,
   "metadata": {
    "collapsed": true
   },
   "outputs": [],
   "source": [
    "la=['06037']\n",
    "lama=('06037','06059')"
   ]
  },
  {
   "cell_type": "code",
   "execution_count": null,
   "metadata": {
    "collapsed": true
   },
   "outputs": [],
   "source": [
    "la_flows_dfs=[]\n",
    "lama_flows_dfs=[]"
   ]
  },
  {
   "cell_type": "code",
   "execution_count": null,
   "metadata": {
    "collapsed": true
   },
   "outputs": [],
   "source": [
    "for year in years:\n",
    "    la_flows_dfs.append (get_flows_by_city (year, la))\n",
    "\n",
    "for year in years:\n",
    "    lama_flows_dfs.append (get_flows_by_city (year, lama))\n",
    "\n",
    "# merge all years dfs for LA (LAMA) from the list into a single df\n",
    "la_flows=reduce(lambda x, y: pd.merge(x, y, on = ['co_fips', 'co_name', 'state', 'cbsa_code', 'cbsa_name'], how='outer'), la_flows_dfs)\n",
    "lama_flows=reduce(lambda x, y: pd.merge(x, y, on = ['co_fips', 'co_name', 'state', 'cbsa_code', 'cbsa_name'], how='outer'), lama_flows_dfs)"
   ]
  },
  {
   "cell_type": "code",
   "execution_count": null,
   "metadata": {},
   "outputs": [],
   "source": [
    "la_flows.head()"
   ]
  },
  {
   "cell_type": "code",
   "execution_count": null,
   "metadata": {
    "collapsed": true
   },
   "outputs": [],
   "source": [
    "# get subsets of domestic flows \n",
    "domestic_la_flows=la_flows[~la_flows['co_fips'].isin (foreign)].copy()\n",
    "\n",
    "#group by metro area to get metro to metro flows\n",
    "lama_by_metro=lama_flows.groupby(['cbsa_name','cbsa_code']).sum().reset_index()"
   ]
  },
  {
   "cell_type": "code",
   "execution_count": null,
   "metadata": {
    "collapsed": true
   },
   "outputs": [],
   "source": [
    "# add cummulative numbers for inflow, outflow, netflow for city and metro \n",
    "# these are totals for all 4 years\n",
    "domestic_la_flows['tot_inflow']=domestic_la_flows[['inflow2011_12','inflow2012_13',\n",
    "                               'inflow2013_14','inflow2014_15']].sum(axis=1)\n",
    "\n",
    "domestic_la_flows['tot_outflow']=domestic_la_flows[['outflow2011_12','outflow2012_13',\n",
    "                               'outflow2013_14','outflow2014_15']].sum(axis=1)\n",
    "\n",
    "domestic_la_flows['tot_net_flow']=domestic_la_flows['tot_inflow']-domestic_la_flows['tot_outflow']"
   ]
  },
  {
   "cell_type": "code",
   "execution_count": null,
   "metadata": {
    "collapsed": true
   },
   "outputs": [],
   "source": [
    "domestic_la_flows['label']=domestic_la_flows['co_name']+', '+domestic_la_flows['state']"
   ]
  },
  {
   "cell_type": "code",
   "execution_count": null,
   "metadata": {
    "collapsed": true
   },
   "outputs": [],
   "source": [
    "lama_by_metro['tot_inflow']=lama_by_metro[['inflow2011_12','inflow2012_13',\n",
    "                               'inflow2013_14','inflow2014_15']].sum(axis=1)\n",
    "\n",
    "lama_by_metro['tot_outflow']=lama_by_metro[['outflow2011_12','outflow2012_13',\n",
    "                               'outflow2013_14','outflow2014_15']].sum(axis=1)\n",
    "\n",
    "lama_by_metro['tot_net_flow']=lama_by_metro['tot_inflow']-lama_by_metro['tot_outflow']"
   ]
  },
  {
   "cell_type": "code",
   "execution_count": null,
   "metadata": {},
   "outputs": [],
   "source": [
    "domestic_la_flows[['label','tot_inflow','tot_outflow','tot_net_flow']].sort_values(by='tot_net_flow',ascending=False).head(n=30)"
   ]
  },
  {
   "cell_type": "code",
   "execution_count": null,
   "metadata": {},
   "outputs": [],
   "source": [
    "lama_by_metro[['cbsa_name','tot_inflow','tot_outflow','tot_net_flow']].sort_values(by='tot_net_flow',ascending=False).head(n=30)"
   ]
  }
 ],
 "metadata": {
  "celltoolbar": "Raw Cell Format",
  "kernelspec": {
   "display_name": "Python 2",
   "language": "python",
   "name": "python2"
  },
  "language_info": {
   "codemirror_mode": {
    "name": "ipython",
    "version": 2
   },
   "file_extension": ".py",
   "mimetype": "text/x-python",
   "name": "python",
   "nbconvert_exporter": "python",
   "pygments_lexer": "ipython2",
   "version": "2.7.13"
  }
 },
 "nbformat": 4,
 "nbformat_minor": 2
}
